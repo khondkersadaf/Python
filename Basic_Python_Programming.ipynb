{
  "cells": [
    {
      "cell_type": "markdown",
      "metadata": {
        "id": "iuIcH4qbA4jS"
      },
      "source": [
        "#**Arithmetic Operators**\n",
        "\n",
        "#+ Addition: Adds two numbers.\n",
        "# - (Subtraction): Subtracts the right operand from the left operand.\n",
        "# * (Multiplication): Multiplies two numbers.\n",
        "#/ (Division): Divides the left operand by the right operand.\n",
        "#// (Floor Division): Divides the left operand by the right operand, discarding any remainder.\n",
        "#% (Modulus): Returns the remainder of the division of the left operand by the right operand."
      ]
    },
    {
      "cell_type": "code",
      "execution_count": null,
      "metadata": {
        "colab": {
          "base_uri": "https://localhost:8080/"
        },
        "id": "edeE0YO7_YjP",
        "outputId": "53fad5cb-beb4-4f78-f5ca-91d5911dbe7b"
      },
      "outputs": [
        {
          "output_type": "stream",
          "name": "stdout",
          "text": [
            "Enter first number: 10\n",
            "Enter second number: 15\n",
            "Addition 25.0\n",
            "Subtraction: -5.0\n",
            "Multiplication: 150.0\n",
            "Division: 0.6666666666666666\n",
            "Floor Division: 0.0\n",
            "Modulus: 10.0\n"
          ]
        }
      ],
      "source": [
        "# Arithmetic operations\n",
        "\n",
        "num1 = float(input(\"Enter first number: \"))\n",
        "num2 = float(input(\"Enter second number: \"))\n",
        "\n",
        "addition = num1 + num2\n",
        "subtraction = num1 - num2\n",
        "multiplication = num1 * num2\n",
        "division = num1 / num2\n",
        "floor_division = num1 // num2\n",
        "modulus = num1 % num2\n",
        "\n",
        "print(\"Addition\", addition)\n",
        "print(\"Subtraction:\", subtraction)\n",
        "print(\"Multiplication:\", multiplication)\n",
        "print(\"Division:\", division)\n",
        "print(\"Floor Division:\", floor_division)\n",
        "print(\"Modulus:\", modulus)\n"
      ]
    },
    {
      "cell_type": "markdown",
      "metadata": {
        "id": "Jyph9VfpBhk5"
      },
      "source": [
        "# **Comparison Operators**\n",
        "\n",
        "#== (Equal to)\n",
        "#!= (Not equal to)\n",
        "#< (Less than)\n",
        "#> (Greater than)\n",
        "#<= (Less than or equal to)\n",
        "# >= (Greater than or equal to)"
      ]
    },
    {
      "cell_type": "code",
      "execution_count": null,
      "metadata": {
        "colab": {
          "base_uri": "https://localhost:8080/"
        },
        "id": "s4d-3orUBPY1",
        "outputId": "298f2e13-b159-452a-d564-9401659700f5"
      },
      "outputs": [
        {
          "output_type": "stream",
          "name": "stdout",
          "text": [
            "False\n",
            "True\n",
            "True\n",
            "False\n",
            "True\n",
            "False\n"
          ]
        }
      ],
      "source": [
        "# Comparison operators\n",
        "\n",
        "\n",
        "value1 = 15\n",
        "value2 = 25\n",
        "\n",
        "print(value1 == value2)\n",
        "print(value1 != value2)\n",
        "print(value1 < value2)\n",
        "print(value1 > value2)\n",
        "print(value1 <= value2)\n",
        "print(value1 >= value2)\n"
      ]
    },
    {
      "cell_type": "markdown",
      "metadata": {
        "id": "BPx1nAYKBsSS"
      },
      "source": [
        "# **Logical Operators**\n",
        "\n",
        "# and (Logical AND): Returns True if both conditions are true.\n",
        "# or (Logical OR): Returns True if at least one condition is true.\n",
        "# not (Logical NOT): Returns True if the condition is false and vice versa."
      ]
    },
    {
      "cell_type": "code",
      "execution_count": null,
      "metadata": {
        "colab": {
          "base_uri": "https://localhost:8080/"
        },
        "id": "k70wpHc3Bn7f",
        "outputId": "d0e5d408-1452-4afd-8157-8c8cd3eb1fe6"
      },
      "outputs": [
        {
          "output_type": "stream",
          "name": "stdout",
          "text": [
            "False\n",
            "True\n",
            "False\n",
            "True\n"
          ]
        }
      ],
      "source": [
        "# Python program for logical operators\n",
        "x = True\n",
        "y = False\n",
        "\n",
        "print(x and y)\n",
        "print(x or y)\n",
        "print(not x)\n",
        "print(not y)\n"
      ]
    },
    {
      "cell_type": "markdown",
      "metadata": {
        "id": "wJXGrnc5B8ZR"
      },
      "source": [
        "# **Assignment Operators**\n",
        "\n",
        "# = (Assignment): Assigns the value of the right operand to the left operand.\n",
        "# += (Add and Assign)\n",
        "# -= (Subtract and Assign)\n",
        "# *= (Multiply and Assign)\n",
        "# /= (Divide and Assign)\n",
        "# //= (Floor Divide and Assign)\n",
        "# %= (Modulus and Assign)"
      ]
    },
    {
      "cell_type": "code",
      "execution_count": null,
      "metadata": {
        "colab": {
          "base_uri": "https://localhost:8080/"
        },
        "id": "PCIxwzCpByK9",
        "outputId": "edb22206-0788-41f3-87a4-6b48013e51d1"
      },
      "outputs": [
        {
          "output_type": "stream",
          "name": "stdout",
          "text": [
            "17\n",
            "15\n",
            "30\n",
            "15.0\n",
            "7.0\n",
            "1.0\n"
          ]
        }
      ],
      "source": [
        "# Assignment operators\n",
        "a = 15\n",
        "b = 2\n",
        "\n",
        "a += b\n",
        "print(a) #a=17\n",
        "\n",
        "a -= b\n",
        "print(a) #a=15\n",
        "\n",
        "a *= b\n",
        "print(a) #a=30\n",
        "\n",
        "a /= b\n",
        "print(a) #a=15\n",
        "\n",
        "a //= b\n",
        "print(a) #a=7\n",
        "\n",
        "a %= b\n",
        "print(a) #a=1\n"
      ]
    },
    {
      "cell_type": "markdown",
      "metadata": {
        "id": "hdZwZZ2dCFi8"
      },
      "source": [
        "# **Membership Operators**\n",
        "\n",
        "# in: Returns True if a specified value is present in the object.\n",
        "# not in: Returns True if a specified value is not present in the object."
      ]
    },
    {
      "cell_type": "code",
      "execution_count": null,
      "metadata": {
        "colab": {
          "base_uri": "https://localhost:8080/"
        },
        "id": "rPWUyW1UB_9H",
        "outputId": "30fba1bc-063d-4fc1-bc45-058c8b203da0"
      },
      "outputs": [
        {
          "output_type": "stream",
          "name": "stdout",
          "text": [
            "True\n",
            "True\n",
            "False\n",
            "False\n"
          ]
        }
      ],
      "source": [
        "# Membership operators\n",
        "my_list = [1, 2, 3, 4, 5]\n",
        "\n",
        "print(3 in my_list)\n",
        "print(6 not in my_list)\n",
        "print(3 not in my_list)\n",
        "print(10 in my_list)\n"
      ]
    },
    {
      "cell_type": "markdown",
      "metadata": {
        "id": "SqL_BE2hCTfk"
      },
      "source": [
        "# **Identity Operators**\n",
        "\n",
        "# is: Returns True if both variables reference the same object.\n",
        "# is not: Returns True if both variables do not reference the same object."
      ]
    },
    {
      "cell_type": "code",
      "execution_count": null,
      "metadata": {
        "colab": {
          "base_uri": "https://localhost:8080/"
        },
        "id": "XIiFoxz-COPi",
        "outputId": "102eabd8-6e29-4ca1-c929-1fa27ae262a8"
      },
      "outputs": [
        {
          "output_type": "stream",
          "name": "stdout",
          "text": [
            "False\n",
            "True\n",
            "True\n",
            "False\n"
          ]
        }
      ],
      "source": [
        "# Identity operators\n",
        "a = [1, 2, 3]\n",
        "b = [1, 2, 3]\n",
        "c = a\n",
        "\n",
        "print(a is b)\n",
        "print(a is not b)\n",
        "print(a is c)\n",
        "print(b is c)\n"
      ]
    },
    {
      "cell_type": "markdown",
      "metadata": {
        "id": "3W3s6CYS6Ya5"
      },
      "source": [
        "#**Identifiers**\n",
        "\n",
        "# **Valid Identifier :** Identifiers are names given to variables. They can consist of letters, digits, and underscores but cannot start with a digit.\n",
        "# Example : number_1\n",
        "\n",
        "# **Invalid Indentifier :**  Invalid identifier cannot begin with a digit.\n",
        "# Example : 1_number\n",
        "\n",
        "\n"
      ]
    },
    {
      "cell_type": "code",
      "execution_count": null,
      "metadata": {
        "colab": {
          "base_uri": "https://localhost:8080/"
        },
        "id": "R3hsTxgEXiQg",
        "outputId": "c7f8470a-1bf1-4e51-9976-9f62995a8b6b"
      },
      "outputs": [
        {
          "output_type": "stream",
          "name": "stdout",
          "text": [
            "5\n",
            "5\n"
          ]
        }
      ],
      "source": [
        "# valid identifier\n",
        "my_name = 5\n",
        "print(my_name)\n",
        "\n",
        "my_name5 = 5\n",
        "print(my_name5)\n",
        "\n",
        "#invalid identifier\n",
        "#5_name = 5\n",
        "#print(5_name)"
      ]
    },
    {
      "cell_type": "markdown",
      "metadata": {
        "id": "e-LBCcje74fY"
      },
      "source": [
        "# **Keywords**\n",
        "\n",
        "# Keywords are reserved words with special meanings in Python.\n",
        "# Example: if, elif, else, for, while, def, import.\n",
        "\n",
        "# **Types of Keywords :**\n",
        "\n",
        "# **Value Keywords :** True, False, None\n",
        "  \n",
        "# **Operator Keywords :** and, or, not, in, is\n",
        "# **Conditional Keywords :** if, elif, else\n",
        "# **Iterative & Transfer Keywords :** for, while, break, continue, else\n",
        "# **Structure Keywords :** def, class, pass, with, as\n",
        "# **Returning Keywords :** return, yield\n",
        "# **Exception Handling Keywords :** try, except, raise, finally, else, assert\n",
        "# **Variable Handling Keywords :** del, global, nonlocal\n",
        "\n",
        "\n",
        "# **if :** The if statement is used to check a condition. If the condition is True, the code block indented under the if statement is executed. If the condition is False, the code block is skipped.\n",
        "\n",
        "# **elif :** The elif, short for else if, statement is used to check an additional condition if the preceding if or elif conditions are not met. You can have multiple elif statements to test multiple conditions in sequence. If an elif condition is True, the corresponding code block is executed, and the subsequent else block (if any) is skipped and vice-versa.\n",
        "\n",
        "# **else :** The else statement is used to provide a default code block to execute if none of the preceding if or elif conditions are True. It does not have a condition of its own. It runs when none of the previous conditions are True.\n",
        "\n",
        "# **for :** It is used for loop iteration.\n",
        "\n",
        "# **while :** It is used for loop iteration.\n",
        "\n",
        "# **def :** It is used to define functions.\n",
        "\n",
        "# **import :** It is used to import modules.\n"
      ]
    },
    {
      "cell_type": "code",
      "execution_count": null,
      "metadata": {
        "colab": {
          "base_uri": "https://localhost:8080/"
        },
        "id": "IudFlklAYiSn",
        "outputId": "1d8fac9f-1ed1-4568-a525-713b6267c184"
      },
      "outputs": [
        {
          "output_type": "stream",
          "name": "stdout",
          "text": [
            "num_2 is greater\n"
          ]
        }
      ],
      "source": [
        "num_1 = 5\n",
        "num_2 = 15\n",
        "\n",
        "#checking if num_1 is greater than num_2\n",
        "if  num_1 > num_2 :\n",
        "   print(\"num_1 is greater\")\n",
        "\n",
        "#checking if num_2 is greater than num_1\n",
        "elif num_2 > num_1 :\n",
        "   print(\"num_2 is greater\")\n",
        "\n",
        "else :\n",
        "   print(\"num_1 is equal to num_2\")"
      ]
    },
    {
      "cell_type": "code",
      "execution_count": null,
      "metadata": {
        "colab": {
          "base_uri": "https://localhost:8080/"
        },
        "id": "1Ppa9gZQTdEG",
        "outputId": "9296aa28-613c-430e-e17c-e0d4745bba27"
      },
      "outputs": [
        {
          "output_type": "stream",
          "name": "stdout",
          "text": [
            "Enter value of a : 12\n",
            "Enter value of b : 5\n",
            "Enter value c : 13\n",
            "Maximum value is : 13\n"
          ]
        }
      ],
      "source": [
        "#Code to print greatest number out of 3 numbers\n",
        "\n",
        "a=int(input(\"Enter value of a : \"))\n",
        "b=int(input(\"Enter value of b : \"))\n",
        "c=int(input(\"Enter value c : \"))\n",
        "\n",
        "if (a>b) and (a>c):\n",
        "\tprint(\"Maximum value is :\",a)\n",
        "\n",
        "elif (b>c):\n",
        "\tprint(\"Maximum value is :\",b)\n",
        "\n",
        "else:\n",
        "\tprint(\"Maximum value is :\",c)\n",
        "\n"
      ]
    },
    {
      "cell_type": "markdown",
      "metadata": {
        "id": "dVckFHnQ-G60"
      },
      "source": [
        "# **Variables**\n",
        "\n",
        "# In Python, variables are used to store and manage data. To declare a variable in Python, you simply assign a value to a name.\n",
        "\n",
        "# In Python, one of the key features is dynamic typing, which means you don't need to explicitly declare the data type of a variable before assigning a value to it.\n",
        "\n",
        "# **Types of Variables :**\n",
        "\n",
        "# There are mainly two types of variables:\n",
        "\n",
        "# **Local Variable :** They are defined inside a function and can only be accessed within that function.\n",
        "\n",
        "# **Global Variable :** They are are defined outside any function and can be accessed throughout the program.\n",
        "\n",
        "\n"
      ]
    },
    {
      "cell_type": "code",
      "execution_count": null,
      "metadata": {
        "colab": {
          "base_uri": "https://localhost:8080/"
        },
        "id": "OBUvldgAW17M",
        "outputId": "a85652a3-0c75-45f5-bfdc-5876d3a2bf63"
      },
      "outputs": [
        {
          "output_type": "stream",
          "name": "stdout",
          "text": [
            "sadaf\n",
            "2\n",
            "4.0\n",
            "10\n",
            "5\n"
          ]
        }
      ],
      "source": [
        "#Variables:\n",
        "\n",
        "name = 'sadaf' #variable was not declared as string, it was detected automatically\n",
        "semester = 2   #variable was not declared as integer, it was detected automatically\n",
        "cgpa = 4.00    #variable was not declared as float, it was detected automatically\n",
        "\n",
        "print(name)\n",
        "print(semester)\n",
        "print(cgpa)\n",
        "\n",
        "#Local Variable:\n",
        "\n",
        "def x():\n",
        "  local_var = 10\n",
        "  print(local_var)\n",
        "\n",
        "#print(local_var) #will give error\n",
        "#Global Variable:\n",
        "\n",
        "x()\n",
        "global_var = 5\n",
        "print(global_var)\n"
      ]
    },
    {
      "cell_type": "markdown",
      "metadata": {
        "id": "kKXvQkxAVsiq"
      },
      "source": [
        "# **Data Types :**\n",
        "\n",
        "# Data types represent the type of data that can be stored and manipulated in a programming language. They are important for performing operations and ensuring data integrity in programs.\n",
        "\n",
        "# **Types of Data Types :**\n",
        "\n",
        "# **Integer (int) :** Integer represents whole numbers without any decimal points.\n",
        "\n",
        "# **Float :** Float represents numbers with decimal points or in scientific notation.\n",
        "\n",
        "# **String (str) :** String represents sequences of characters. Strings are enclosed in single (') or double (\") quotes\n",
        "\n",
        "# **Boolean (bool) :** It is used to logical operations, representing True or False"
      ]
    },
    {
      "cell_type": "markdown",
      "metadata": {
        "id": "KttMKze1AKeD"
      },
      "source": [
        "# **Operators - Mutable and Immutable Conditions :**\n",
        "\n",
        "# In Python, objects can be classified into two main categories: mutable and immutable.\n",
        "\n",
        "# **Mutable :** Mutable objects are those whose state can be modified after creation.\n",
        "# Examples: Lists, dictionaries, sets.\n",
        "\n"
      ]
    },
    {
      "cell_type": "code",
      "execution_count": null,
      "metadata": {
        "colab": {
          "base_uri": "https://localhost:8080/"
        },
        "id": "ELoWiGLgtDE3",
        "outputId": "dd5d2bd6-c082-4ff0-a1ad-e1b18480384a"
      },
      "outputs": [
        {
          "output_type": "stream",
          "name": "stdout",
          "text": [
            "[1, 2, 3]\n",
            "[1, 2, 3, 5]\n",
            "[1, 3, 5]\n",
            "{35, 15, 14, 55}\n",
            "{35, 14, 15, 55, 25}\n",
            "{35, 15, 55, 25}\n",
            "{'name': 'John', 'age': 25, 'city': 'New York'}\n",
            "{'name': 'John', 'city': 'New York'}\n",
            "{'name': 'John', 'city': 'New York', 'height': '6.9'}\n"
          ]
        }
      ],
      "source": [
        "#List\n",
        "my_list = [1, 2, 3]\n",
        "print(my_list)\n",
        "\n",
        "#append() is used to add an element to a list\n",
        "my_list.append(5)\n",
        "print(my_list)\n",
        "\n",
        "#remove() is used to delete an element from a list\n",
        "my_list.remove(2)\n",
        "print(my_list)\n",
        "\n",
        "#Set\n",
        "my_set = {15,14,35,55}\n",
        "print(my_set)\n",
        "\n",
        "#add() is used to add an element to a set\n",
        "my_set.add(25)\n",
        "print(my_set)\n",
        "\n",
        "#remove() is used to delete an element from a set\n",
        "my_set.remove(14)\n",
        "print(my_set)\n",
        "\n",
        "#Dictionary\n",
        "my_dict = {'name': 'John', 'age': 25, 'city': 'New York'}\n",
        "print(my_dict)\n",
        "\n",
        "#pop() is used to delete something from a dictionary\n",
        "my_dict.pop('age')\n",
        "print(my_dict)\n",
        "\n",
        "#how to add something to a dictionary\n",
        "my_dict['height'] = '6.9'\n",
        "print(my_dict)\n"
      ]
    },
    {
      "cell_type": "markdown",
      "metadata": {
        "id": "771uoCbOAxXg"
      },
      "source": [
        "# **Immutable :**  Immutable objects are those whose state cannot be modified after creation.\n",
        "# Examples: Strings, integers, floats, tuples."
      ]
    },
    {
      "cell_type": "code",
      "execution_count": null,
      "metadata": {
        "colab": {
          "base_uri": "https://localhost:8080/",
          "height": 211
        },
        "id": "UaSZndBE1TnU",
        "outputId": "fe67b64f-b589-4aed-b14e-d244df10effa"
      },
      "outputs": [
        {
          "output_type": "stream",
          "name": "stdout",
          "text": [
            "First element: 1\n",
            "Last element: Hello\n"
          ]
        },
        {
          "output_type": "error",
          "ename": "TypeError",
          "evalue": "'tuple' object does not support item assignment",
          "traceback": [
            "\u001b[0;31m---------------------------------------------------------------------------\u001b[0m",
            "\u001b[0;31mTypeError\u001b[0m                                 Traceback (most recent call last)",
            "\u001b[0;32m<ipython-input-12-89feeb54a734>\u001b[0m in \u001b[0;36m<cell line: 9>\u001b[0;34m()\u001b[0m\n\u001b[1;32m      7\u001b[0m \u001b[0;34m\u001b[0m\u001b[0m\n\u001b[1;32m      8\u001b[0m \u001b[0;31m# Trying to modify the tuple (will result in an error)\u001b[0m\u001b[0;34m\u001b[0m\u001b[0;34m\u001b[0m\u001b[0m\n\u001b[0;32m----> 9\u001b[0;31m \u001b[0mmy_tuple\u001b[0m\u001b[0;34m[\u001b[0m\u001b[0;36m0\u001b[0m\u001b[0;34m]\u001b[0m \u001b[0;34m=\u001b[0m \u001b[0;36m5\u001b[0m  \u001b[0;31m# This line will raise a TypeError\u001b[0m\u001b[0;34m\u001b[0m\u001b[0;34m\u001b[0m\u001b[0m\n\u001b[0m",
            "\u001b[0;31mTypeError\u001b[0m: 'tuple' object does not support item assignment"
          ]
        }
      ],
      "source": [
        "#Tuple\n",
        "my_tuple = (1, 2, 3, \"Hello\")\n",
        "\n",
        "# Accessing elements in a tuple\n",
        "print(\"First element:\", my_tuple[0]) #[0] is first index\n",
        "print(\"Last element:\", my_tuple[-1]) #[-1] is last index\n",
        "\n",
        "# Trying to modify the tuple (will result in an error)\n",
        "my_tuple[0] = 5  # This line will raise a TypeError\n"
      ]
    },
    {
      "cell_type": "code",
      "execution_count": null,
      "metadata": {
        "colab": {
          "base_uri": "https://localhost:8080/"
        },
        "id": "F_LoKUpG2ioU",
        "outputId": "1cd08903-0177-4563-ad73-f5912a5abcaa"
      },
      "outputs": [
        {
          "output_type": "stream",
          "name": "stdout",
          "text": [
            "Enter a number: 10\n",
            "10 is even.\n"
          ]
        }
      ],
      "source": [
        "# Take user input for a number\n",
        "num = int(input(\"Enter a number: \")) #defined as int (integer) because Python interprets user input as string in default\n",
        "\n",
        "# Check if the number is even or odd using the modulus operator\n",
        "if num % 2 == 0: #remainder is 0\n",
        "    print(f\"{num} is even.\")\n",
        "\n",
        "elif num % 2 != 0: #remainder is not 0\n",
        "      print(f\"{num} is odd.\")\n",
        "#else:\n",
        " #   print(f\"{num} is odd.\")\n"
      ]
    },
    {
      "cell_type": "code",
      "execution_count": null,
      "metadata": {
        "colab": {
          "base_uri": "https://localhost:8080/"
        },
        "id": "9sH00uEqYSzU",
        "outputId": "33a0eb37-bf7a-4adf-904f-d4ec9167506a"
      },
      "outputs": [
        {
          "output_type": "stream",
          "name": "stdout",
          "text": [
            "Enter value of a: 5\n",
            "Enter value of b: 5\n",
            "10\n",
            "0\n",
            "25\n",
            "1.0\n"
          ]
        }
      ],
      "source": [
        "a = int(input(\"Enter value of a: \"))\n",
        "b = int(input(\"Enter value of b: \"))\n",
        "\n",
        "def addition (a,b) :\n",
        "  return a+b\n",
        "result = addition(a,b)\n",
        "print(result)\n",
        "\n",
        "def subtraction (a,b) :\n",
        "  return a-b\n",
        "result = subtraction(a,b)\n",
        "print(result)\n",
        "\n",
        "def multiplication (a,b) :\n",
        "  return a*b\n",
        "\n",
        "result = multiplication(a,b)\n",
        "print(result)\n",
        "\n",
        "def division (a,b) :\n",
        "  return a/b\n",
        "result = division(a,b)\n",
        "print(result)"
      ]
    },
    {
      "cell_type": "code",
      "execution_count": null,
      "metadata": {
        "colab": {
          "base_uri": "https://localhost:8080/"
        },
        "id": "KglF--Rggd5E",
        "outputId": "ac46e903-5acd-439c-d274-17f049294d46"
      },
      "outputs": [
        {
          "output_type": "stream",
          "name": "stdout",
          "text": [
            "Enter value of a: 14\n",
            "Enter value of b: 34\n",
            "48\n"
          ]
        }
      ],
      "source": [
        "a = int(input(\"Enter value of a: \"))\n",
        "b = int(input(\"Enter value of b: \"))\n",
        "\n",
        "def add (a,b) :\n",
        "  return a+b\n",
        "\n",
        "result = add(a,b) #calling or invoking a function\n",
        "print(result)\n",
        "\n"
      ]
    },
    {
      "cell_type": "code",
      "execution_count": null,
      "metadata": {
        "colab": {
          "base_uri": "https://localhost:8080/"
        },
        "id": "6dsIpF8m4uyU",
        "outputId": "028098a3-008b-4b85-8c14-22a5a006d90b"
      },
      "outputs": [
        {
          "output_type": "stream",
          "name": "stdout",
          "text": [
            "Enter a number: 12\n",
            "12\n",
            "24\n",
            "36\n",
            "48\n",
            "60\n",
            "72\n",
            "84\n",
            "96\n",
            "108\n",
            "120\n"
          ]
        }
      ],
      "source": [
        "# Take user input for a number\n",
        "num = int(input(\"Enter a number: \"))\n",
        "\n",
        "# Using a for loop to check multiples of 10\n",
        "#print(f\"The first 10 multiples of {num} are:\")\n",
        "for i in range(1, 11): #always goes from first number to one less than the last number in the range. So loop will go to 10 then 11 is written\n",
        "    multiple = num*i\n",
        "    #print(f\"{num} x {i} = {multiple}\") # this will print showing the calculation\n",
        "    #Example : 1x10=10, 2x10=20 and so on\n",
        "    print(multiple) #this will print just the output of the calculation"
      ]
    },
    {
      "cell_type": "code",
      "execution_count": null,
      "metadata": {
        "colab": {
          "base_uri": "https://localhost:8080/"
        },
        "id": "HsvmwXYZ4G8X",
        "outputId": "bd4a65fc-8535-499f-d03f-98f9d668f0df"
      },
      "outputs": [
        {
          "output_type": "stream",
          "name": "stdout",
          "text": [
            "1\n",
            "2\n",
            "3\n",
            "4\n",
            "5\n"
          ]
        }
      ],
      "source": [
        "i = 1\n",
        "while (i < 6):\n",
        "  print(i)\n",
        "  i += 1\n",
        "\n"
      ]
    },
    {
      "cell_type": "code",
      "execution_count": null,
      "metadata": {
        "colab": {
          "base_uri": "https://localhost:8080/"
        },
        "id": "YIUd_X2b58kF",
        "outputId": "6f1f65a3-7d6a-46a7-cfb0-4ef7da854ac6"
      },
      "outputs": [
        {
          "output_type": "stream",
          "name": "stdout",
          "text": [
            "1\n",
            "2\n",
            "3\n",
            "4\n"
          ]
        }
      ],
      "source": [
        "i = 1\n",
        "while (i < 6) :\n",
        "  print(i)\n",
        "  if i == 4 :\n",
        "    break\n",
        "  i += 1\n"
      ]
    },
    {
      "cell_type": "code",
      "execution_count": null,
      "metadata": {
        "colab": {
          "base_uri": "https://localhost:8080/"
        },
        "id": "1ppqoFvkHqul",
        "outputId": "538b13d4-1463-4fcf-f3bc-2c6a90ffda94"
      },
      "outputs": [
        {
          "output_type": "stream",
          "name": "stdout",
          "text": [
            "Odd numbers between 1 to 10\n",
            "1\n",
            "3\n",
            "5\n",
            "7\n",
            "9\n"
          ]
        }
      ],
      "source": [
        "num = 0\n",
        "print(\"Odd numbers between 1 to 10\")\n",
        "while(num < 10):\n",
        "\n",
        "    num += 1\n",
        "    if (num % 2) == 0:\n",
        "        continue\n",
        "    print(num)\n"
      ]
    },
    {
      "cell_type": "code",
      "execution_count": null,
      "metadata": {
        "colab": {
          "base_uri": "https://localhost:8080/"
        },
        "id": "qFSzrxhS09nb",
        "outputId": "74e8ca7c-3e31-4274-9c8f-f8b9814ed83e"
      },
      "outputs": [
        {
          "output_type": "stream",
          "name": "stdout",
          "text": [
            "apple\n",
            "mango\n",
            "kiwi\n",
            "grapes\n",
            "0\n",
            "1\n",
            "2\n",
            "3\n",
            "4\n"
          ]
        }
      ],
      "source": [
        "fruits = ['apple', 'mango', 'kiwi', 'grapes']\n",
        "\n",
        "for fruit in fruits:\n",
        "    print(fruit)\n",
        "\n",
        "# While loop example\n",
        "counter = 0\n",
        "while counter < 5:\n",
        "    print(counter)\n",
        "    counter += 1"
      ]
    },
    {
      "cell_type": "code",
      "execution_count": null,
      "metadata": {
        "colab": {
          "base_uri": "https://localhost:8080/"
        },
        "id": "MMFr3Z1SNO1p",
        "outputId": "f2d9afb0-c7b6-475f-914c-be13ec448892"
      },
      "outputs": [
        {
          "output_type": "stream",
          "name": "stdout",
          "text": [
            "[2, 1, 3, 4, 5]\n"
          ]
        }
      ],
      "source": [
        "import random\n",
        "my_list = [1, 2, 3, 4, 5]\n",
        "random.shuffle(my_list)\n",
        "print(my_list)\n"
      ]
    },
    {
      "cell_type": "code",
      "execution_count": null,
      "metadata": {
        "colab": {
          "base_uri": "https://localhost:8080/"
        },
        "id": "lyyf5px_NvUa",
        "outputId": "dff8b462-c6b1-46ea-b201-4678f5583d85"
      },
      "outputs": [
        {
          "output_type": "stream",
          "name": "stdout",
          "text": [
            "4\n"
          ]
        }
      ],
      "source": [
        "rand_int = random.randint(1,10)\n",
        "print(rand_int)"
      ]
    }
  ],
  "metadata": {
    "colab": {
      "provenance": []
    },
    "kernelspec": {
      "display_name": "Python 3",
      "name": "python3"
    },
    "language_info": {
      "name": "python"
    }
  },
  "nbformat": 4,
  "nbformat_minor": 0
}